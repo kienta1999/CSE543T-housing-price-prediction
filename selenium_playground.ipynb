{
 "cells": [
  {
   "cell_type": "code",
   "execution_count": 39,
   "id": "aae6fb10",
   "metadata": {},
   "outputs": [
    {
     "data": {
      "text/plain": [
       "[]"
      ]
     },
     "execution_count": 39,
     "metadata": {},
     "output_type": "execute_result"
    }
   ],
   "source": [
    "driver = webdriver.Chrome(service=ser, options=op)\n",
    "driver.maximize_window()\n",
    "driver.get(page_link_to_open)\n",
    "sleep(1)\n",
    "homeCard = driver.find_elements(By.CSS_SELECTOR , \"a.slider-item\")\n",
    "[c.get_attribute('href') for c in homeCard]"
   ]
  },
  {
   "cell_type": "code",
   "execution_count": 10,
   "id": "b506bea5",
   "metadata": {},
   "outputs": [],
   "source": [
    "import pandas as pd"
   ]
  },
  {
   "cell_type": "code",
   "execution_count": 2,
   "id": "ee3aa071",
   "metadata": {},
   "outputs": [],
   "source": [
    "from selenium import webdriver  # install selenium\n",
    "from selenium.webdriver.common.keys import Keys\n",
    "from selenium.common.exceptions import NoSuchElementException\n",
    "from selenium.common.exceptions import StaleElementReferenceException\n",
    "from selenium.common.exceptions import TimeoutException\n",
    "from selenium.webdriver.support import expected_conditions as EC\n",
    "from selenium.webdriver.support.ui import WebDriverWait\n",
    "from selenium.webdriver.common.by import By\n",
    "from selenium.webdriver.chrome.options import Options\n",
    "from selenium.webdriver.chrome.service import Service\n",
    "from time import sleep"
   ]
  },
  {
   "cell_type": "code",
   "execution_count": 3,
   "id": "2e76681f",
   "metadata": {},
   "outputs": [],
   "source": [
    "path_to_browser = \"./chromedriver.exe\"\n",
    "ser = Service(path_to_browser)\n",
    "op = webdriver.ChromeOptions()\n",
    "op.add_argument('headless')\n",
    "page_link_to_open = \"https://www.redfin.com/zipcode/00601\""
   ]
  },
  {
   "cell_type": "code",
   "execution_count": 5,
   "id": "63df958b",
   "metadata": {},
   "outputs": [],
   "source": [
    "# https://www.redfin.com/CA/San-Francisco/401-Harrison-St-94105/unit-46B/home/144064341\n",
    "page_link_to_open2 = 'https://www.redfin.com/CA/San-Francisco/401-Harrison-St-94105/unit-46B/home/144064341'\n",
    "\n",
    "driver = webdriver.Chrome(service=ser, options=op)\n",
    "driver.maximize_window()\n",
    "driver.get(page_link_to_open2)\n",
    "sleep(0.2)\n",
    "data = driver.find_elements(By.CSS_SELECTOR , \".statsValue\")\n",
    "[price, beds, bath, area] = [c.text for c in data]\n",
    "stress_address = driver.find_elements(By.CSS_SELECTOR , \".street-address\")[0].text\n",
    "city_and_state = driver.find_elements(By.CSS_SELECTOR , \".dp-subtext\")[0].text\n",
    "\n",
    "# home_facts = driver.find_elements(By.CSS_SELECTOR, \".keyDetailsList\")[0] \\\n",
    "#                    .find_elements(By.CSS_SELECTOR, \"div.keyDetail\")\n",
    "# home_fact_index = [fact.find_elements(By.CSS_SELECTOR , \"span\")[0].text for fact in home_facts]\n",
    "# home_fact_text = [fact.find_elements(By.CSS_SELECTOR, \"span.text-right\")[0].text for fact in home_facts]\n",
    "# year_built = home_fact_text[home_fact_index.index('Year Built')] if 'Year Built' in home_fact_index else None\n",
    "# lot_size = home_fact_text[home_fact_index.index('Lot Size')] if 'Lot Size' in home_fact_index else None\n",
    "\n",
    "basic_infor = driver.find_elements(By.ID, \"basicInfo\")[0]\n",
    "basic_infor_label = [e.text for e in basic_infor.find_elements(By.CSS_SELECTOR, \"span.table-label\")]\n",
    "basic_infor_value = [e.text for e in basic_infor.find_elements(By.CSS_SELECTOR, \"div.table-value\")]\n",
    "year_built = basic_infor_value[basic_infor_label.index('Year Built')] if 'Year Built' in basic_infor_label else None\n",
    "county = basic_infor_value[basic_infor_label.index('County')] if 'County' in basic_infor_label else None\n",
    "lot_size = basic_infor_value[basic_infor_label.index('Lot Size')] if 'Lot Size' in basic_infor_label else None\n",
    "\n",
    "scores = driver.find_elements(By.CSS_SELECTOR , \".walk-score\")\n",
    "if scores:\n",
    "    scores = scores[0].find_elements(By.CSS_SELECTOR , \".score\")\n",
    "    trademark = [score.find_elements(By.CSS_SELECTOR , \".walkscore-trademark\")[0].text[:-1] for score in scores]\n",
    "    score_value = [score.find_elements(By.CSS_SELECTOR , \"div.percentage > span.value\")[0].text for score in scores]\n",
    "    walk_score = score_value[trademark.index('Walk Score')] if 'Walk Score' in trademark else None\n",
    "    transit_score = score_value[trademark.index('Transit Score')] if 'Transit Score' in trademark else None\n",
    "    bike_score = score_value[trademark.index('Bike Score')] if 'Bike Score' in trademark else None\n"
   ]
  },
  {
   "cell_type": "code",
   "execution_count": 6,
   "id": "d7cd908d",
   "metadata": {},
   "outputs": [
    {
     "data": {
      "text/plain": [
       "('$7,900,000',\n",
       " '3',\n",
       " '3',\n",
       " '3,214',\n",
       " '401 Harrison St Unit 46B',\n",
       " 'San Francisco, CA 94105',\n",
       " '2014',\n",
       " '—',\n",
       " 'San Francisco County',\n",
       " '93',\n",
       " '100',\n",
       " '57')"
      ]
     },
     "execution_count": 6,
     "metadata": {},
     "output_type": "execute_result"
    }
   ],
   "source": [
    "price, beds, bath, area, stress_address[:-1], city_and_state, year_built, lot_size, county, walk_score, transit_score, bike_score"
   ]
  },
  {
   "cell_type": "code",
   "execution_count": 66,
   "id": "315d72c8",
   "metadata": {},
   "outputs": [],
   "source": []
  },
  {
   "cell_type": "code",
   "execution_count": 84,
   "id": "65970921",
   "metadata": {},
   "outputs": [],
   "source": []
  },
  {
   "cell_type": "code",
   "execution_count": 86,
   "id": "dbd2af82",
   "metadata": {},
   "outputs": [
    {
     "data": {
      "text/plain": [
       "['Walk Score', 'Transit Score', 'Bike Score']"
      ]
     },
     "execution_count": 86,
     "metadata": {},
     "output_type": "execute_result"
    }
   ],
   "source": [
    "trademark"
   ]
  },
  {
   "cell_type": "code",
   "execution_count": 87,
   "id": "141656d9",
   "metadata": {},
   "outputs": [],
   "source": [
    "walk_score = score_value[trademark.index('Walk Score')] if 'Walk Score' in trademark else None\n",
    "transit_score = score_value[trademark.index('Transit Score')] if 'Transit Score' in trademark else None\n",
    "bike_score = score_value[trademark.index('Bike Score')] if 'Bike Score' in trademark else None"
   ]
  },
  {
   "cell_type": "code",
   "execution_count": 13,
   "id": "72b8c79a",
   "metadata": {},
   "outputs": [
    {
     "data": {
      "text/html": [
       "<div>\n",
       "<style scoped>\n",
       "    .dataframe tbody tr th:only-of-type {\n",
       "        vertical-align: middle;\n",
       "    }\n",
       "\n",
       "    .dataframe tbody tr th {\n",
       "        vertical-align: top;\n",
       "    }\n",
       "\n",
       "    .dataframe thead th {\n",
       "        text-align: right;\n",
       "    }\n",
       "</style>\n",
       "<table border=\"1\" class=\"dataframe\">\n",
       "  <thead>\n",
       "    <tr style=\"text-align: right;\">\n",
       "      <th></th>\n",
       "      <th>zipcode</th>\n",
       "      <th>href</th>\n",
       "    </tr>\n",
       "  </thead>\n",
       "  <tbody>\n",
       "    <tr>\n",
       "      <th>0</th>\n",
       "      <td>zipcode</td>\n",
       "      <td>href</td>\n",
       "    </tr>\n",
       "    <tr>\n",
       "      <th>1</th>\n",
       "      <td>01001</td>\n",
       "      <td>https://www.redfin.com/MA/Agawam/24-Rowley-St...</td>\n",
       "    </tr>\n",
       "    <tr>\n",
       "      <th>2</th>\n",
       "      <td>01001</td>\n",
       "      <td>https://www.redfin.com/MA/Agawam/418-Meadow-S...</td>\n",
       "    </tr>\n",
       "    <tr>\n",
       "      <th>3</th>\n",
       "      <td>01001</td>\n",
       "      <td>https://www.redfin.com/MA/Agawam/611-Suffield...</td>\n",
       "    </tr>\n",
       "    <tr>\n",
       "      <th>4</th>\n",
       "      <td>01001</td>\n",
       "      <td>https://www.redfin.com/MA/Agawam/418-Meadow-S...</td>\n",
       "    </tr>\n",
       "    <tr>\n",
       "      <th>...</th>\n",
       "      <td>...</td>\n",
       "      <td>...</td>\n",
       "    </tr>\n",
       "    <tr>\n",
       "      <th>104815</th>\n",
       "      <td>15475</td>\n",
       "      <td>https://www.redfin.com/PA/Brownsville/110-Hop...</td>\n",
       "    </tr>\n",
       "    <tr>\n",
       "      <th>104816</th>\n",
       "      <td>15475</td>\n",
       "      <td>https://www.redfin.com/PA/Grindstone/418-Shag...</td>\n",
       "    </tr>\n",
       "    <tr>\n",
       "      <th>104817</th>\n",
       "      <td>15475</td>\n",
       "      <td>https://www.redfin.com/PA/Grindstone/210-Marb...</td>\n",
       "    </tr>\n",
       "    <tr>\n",
       "      <th>104818</th>\n",
       "      <td>15477</td>\n",
       "      <td>https://www.redfin.com/PA/Roscoe/417-Main-St-...</td>\n",
       "    </tr>\n",
       "    <tr>\n",
       "      <th>104819</th>\n",
       "      <td>15477</td>\n",
       "      <td>https://www.redfin.com/PA/Midway/201-Railroad...</td>\n",
       "    </tr>\n",
       "  </tbody>\n",
       "</table>\n",
       "<p>104820 rows × 2 columns</p>\n",
       "</div>"
      ],
      "text/plain": [
       "        zipcode                                               href\n",
       "0       zipcode                                               href\n",
       "1         01001   https://www.redfin.com/MA/Agawam/24-Rowley-St...\n",
       "2         01001   https://www.redfin.com/MA/Agawam/418-Meadow-S...\n",
       "3         01001   https://www.redfin.com/MA/Agawam/611-Suffield...\n",
       "4         01001   https://www.redfin.com/MA/Agawam/418-Meadow-S...\n",
       "...         ...                                                ...\n",
       "104815    15475   https://www.redfin.com/PA/Brownsville/110-Hop...\n",
       "104816    15475   https://www.redfin.com/PA/Grindstone/418-Shag...\n",
       "104817    15475   https://www.redfin.com/PA/Grindstone/210-Marb...\n",
       "104818    15477   https://www.redfin.com/PA/Roscoe/417-Main-St-...\n",
       "104819    15477   https://www.redfin.com/PA/Midway/201-Railroad...\n",
       "\n",
       "[104820 rows x 2 columns]"
      ]
     },
     "execution_count": 13,
     "metadata": {},
     "output_type": "execute_result"
    }
   ],
   "source": [
    "all_href = pd.read_csv('./data/property_href.csv')\n",
    "all_href"
   ]
  },
  {
   "cell_type": "code",
   "execution_count": 15,
   "id": "5d2dc092",
   "metadata": {},
   "outputs": [
    {
     "ename": "KeyError",
     "evalue": "'href'",
     "output_type": "error",
     "traceback": [
      "\u001b[1;31m---------------------------------------------------------------------------\u001b[0m",
      "\u001b[1;31mKeyError\u001b[0m                                  Traceback (most recent call last)",
      "\u001b[1;32mc:\\users\\talek\\miniconda3\\lib\\site-packages\\pandas\\core\\indexes\\base.py\u001b[0m in \u001b[0;36mget_loc\u001b[1;34m(self, key, method, tolerance)\u001b[0m\n\u001b[0;32m   3079\u001b[0m             \u001b[1;32mtry\u001b[0m\u001b[1;33m:\u001b[0m\u001b[1;33m\u001b[0m\u001b[1;33m\u001b[0m\u001b[0m\n\u001b[1;32m-> 3080\u001b[1;33m                 \u001b[1;32mreturn\u001b[0m \u001b[0mself\u001b[0m\u001b[1;33m.\u001b[0m\u001b[0m_engine\u001b[0m\u001b[1;33m.\u001b[0m\u001b[0mget_loc\u001b[0m\u001b[1;33m(\u001b[0m\u001b[0mcasted_key\u001b[0m\u001b[1;33m)\u001b[0m\u001b[1;33m\u001b[0m\u001b[1;33m\u001b[0m\u001b[0m\n\u001b[0m\u001b[0;32m   3081\u001b[0m             \u001b[1;32mexcept\u001b[0m \u001b[0mKeyError\u001b[0m \u001b[1;32mas\u001b[0m \u001b[0merr\u001b[0m\u001b[1;33m:\u001b[0m\u001b[1;33m\u001b[0m\u001b[1;33m\u001b[0m\u001b[0m\n",
      "\u001b[1;32mpandas\\_libs\\index.pyx\u001b[0m in \u001b[0;36mpandas._libs.index.IndexEngine.get_loc\u001b[1;34m()\u001b[0m\n",
      "\u001b[1;32mpandas\\_libs\\index.pyx\u001b[0m in \u001b[0;36mpandas._libs.index.IndexEngine.get_loc\u001b[1;34m()\u001b[0m\n",
      "\u001b[1;32mpandas\\_libs\\hashtable_class_helper.pxi\u001b[0m in \u001b[0;36mpandas._libs.hashtable.PyObjectHashTable.get_item\u001b[1;34m()\u001b[0m\n",
      "\u001b[1;32mpandas\\_libs\\hashtable_class_helper.pxi\u001b[0m in \u001b[0;36mpandas._libs.hashtable.PyObjectHashTable.get_item\u001b[1;34m()\u001b[0m\n",
      "\u001b[1;31mKeyError\u001b[0m: 'href'",
      "\nThe above exception was the direct cause of the following exception:\n",
      "\u001b[1;31mKeyError\u001b[0m                                  Traceback (most recent call last)",
      "\u001b[1;32m<ipython-input-15-db055809efa9>\u001b[0m in \u001b[0;36m<module>\u001b[1;34m\u001b[0m\n\u001b[1;32m----> 1\u001b[1;33m \u001b[0mall_href\u001b[0m\u001b[1;33m[\u001b[0m\u001b[1;34m'href'\u001b[0m\u001b[1;33m]\u001b[0m\u001b[1;33m\u001b[0m\u001b[1;33m\u001b[0m\u001b[0m\n\u001b[0m",
      "\u001b[1;32mc:\\users\\talek\\miniconda3\\lib\\site-packages\\pandas\\core\\frame.py\u001b[0m in \u001b[0;36m__getitem__\u001b[1;34m(self, key)\u001b[0m\n\u001b[0;32m   3022\u001b[0m             \u001b[1;32mif\u001b[0m \u001b[0mself\u001b[0m\u001b[1;33m.\u001b[0m\u001b[0mcolumns\u001b[0m\u001b[1;33m.\u001b[0m\u001b[0mnlevels\u001b[0m \u001b[1;33m>\u001b[0m \u001b[1;36m1\u001b[0m\u001b[1;33m:\u001b[0m\u001b[1;33m\u001b[0m\u001b[1;33m\u001b[0m\u001b[0m\n\u001b[0;32m   3023\u001b[0m                 \u001b[1;32mreturn\u001b[0m \u001b[0mself\u001b[0m\u001b[1;33m.\u001b[0m\u001b[0m_getitem_multilevel\u001b[0m\u001b[1;33m(\u001b[0m\u001b[0mkey\u001b[0m\u001b[1;33m)\u001b[0m\u001b[1;33m\u001b[0m\u001b[1;33m\u001b[0m\u001b[0m\n\u001b[1;32m-> 3024\u001b[1;33m             \u001b[0mindexer\u001b[0m \u001b[1;33m=\u001b[0m \u001b[0mself\u001b[0m\u001b[1;33m.\u001b[0m\u001b[0mcolumns\u001b[0m\u001b[1;33m.\u001b[0m\u001b[0mget_loc\u001b[0m\u001b[1;33m(\u001b[0m\u001b[0mkey\u001b[0m\u001b[1;33m)\u001b[0m\u001b[1;33m\u001b[0m\u001b[1;33m\u001b[0m\u001b[0m\n\u001b[0m\u001b[0;32m   3025\u001b[0m             \u001b[1;32mif\u001b[0m \u001b[0mis_integer\u001b[0m\u001b[1;33m(\u001b[0m\u001b[0mindexer\u001b[0m\u001b[1;33m)\u001b[0m\u001b[1;33m:\u001b[0m\u001b[1;33m\u001b[0m\u001b[1;33m\u001b[0m\u001b[0m\n\u001b[0;32m   3026\u001b[0m                 \u001b[0mindexer\u001b[0m \u001b[1;33m=\u001b[0m \u001b[1;33m[\u001b[0m\u001b[0mindexer\u001b[0m\u001b[1;33m]\u001b[0m\u001b[1;33m\u001b[0m\u001b[1;33m\u001b[0m\u001b[0m\n",
      "\u001b[1;32mc:\\users\\talek\\miniconda3\\lib\\site-packages\\pandas\\core\\indexes\\base.py\u001b[0m in \u001b[0;36mget_loc\u001b[1;34m(self, key, method, tolerance)\u001b[0m\n\u001b[0;32m   3080\u001b[0m                 \u001b[1;32mreturn\u001b[0m \u001b[0mself\u001b[0m\u001b[1;33m.\u001b[0m\u001b[0m_engine\u001b[0m\u001b[1;33m.\u001b[0m\u001b[0mget_loc\u001b[0m\u001b[1;33m(\u001b[0m\u001b[0mcasted_key\u001b[0m\u001b[1;33m)\u001b[0m\u001b[1;33m\u001b[0m\u001b[1;33m\u001b[0m\u001b[0m\n\u001b[0;32m   3081\u001b[0m             \u001b[1;32mexcept\u001b[0m \u001b[0mKeyError\u001b[0m \u001b[1;32mas\u001b[0m \u001b[0merr\u001b[0m\u001b[1;33m:\u001b[0m\u001b[1;33m\u001b[0m\u001b[1;33m\u001b[0m\u001b[0m\n\u001b[1;32m-> 3082\u001b[1;33m                 \u001b[1;32mraise\u001b[0m \u001b[0mKeyError\u001b[0m\u001b[1;33m(\u001b[0m\u001b[0mkey\u001b[0m\u001b[1;33m)\u001b[0m \u001b[1;32mfrom\u001b[0m \u001b[0merr\u001b[0m\u001b[1;33m\u001b[0m\u001b[1;33m\u001b[0m\u001b[0m\n\u001b[0m\u001b[0;32m   3083\u001b[0m \u001b[1;33m\u001b[0m\u001b[0m\n\u001b[0;32m   3084\u001b[0m         \u001b[1;32mif\u001b[0m \u001b[0mtolerance\u001b[0m \u001b[1;32mis\u001b[0m \u001b[1;32mnot\u001b[0m \u001b[1;32mNone\u001b[0m\u001b[1;33m:\u001b[0m\u001b[1;33m\u001b[0m\u001b[1;33m\u001b[0m\u001b[0m\n",
      "\u001b[1;31mKeyError\u001b[0m: 'href'"
     ]
    }
   ],
   "source": [
    "all_href['href']"
   ]
  }
 ],
 "metadata": {
  "kernelspec": {
   "display_name": "Python 3",
   "language": "python",
   "name": "python3"
  },
  "language_info": {
   "codemirror_mode": {
    "name": "ipython",
    "version": 3
   },
   "file_extension": ".py",
   "mimetype": "text/x-python",
   "name": "python",
   "nbconvert_exporter": "python",
   "pygments_lexer": "ipython3",
   "version": "3.7.9"
  }
 },
 "nbformat": 4,
 "nbformat_minor": 5
}
