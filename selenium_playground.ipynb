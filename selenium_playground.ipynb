{
 "cells": [
  {
   "cell_type": "code",
   "execution_count": 39,
   "id": "aae6fb10",
   "metadata": {},
   "outputs": [
    {
     "data": {
      "text/plain": [
       "[]"
      ]
     },
     "execution_count": 39,
     "metadata": {},
     "output_type": "execute_result"
    }
   ],
   "source": [
    "driver = webdriver.Chrome(service=ser, options=op)\n",
    "driver.maximize_window()\n",
    "driver.get(page_link_to_open)\n",
    "sleep(1)\n",
    "homeCard = driver.find_elements(By.CSS_SELECTOR , \"a.slider-item\")\n",
    "[c.get_attribute('href') for c in homeCard]"
   ]
  },
  {
   "cell_type": "code",
   "execution_count": null,
   "id": "b506bea5",
   "metadata": {},
   "outputs": [],
   "source": []
  },
  {
   "cell_type": "code",
   "execution_count": 2,
   "id": "ee3aa071",
   "metadata": {},
   "outputs": [],
   "source": [
    "from selenium import webdriver  # install selenium\n",
    "from selenium.webdriver.common.keys import Keys\n",
    "from selenium.common.exceptions import NoSuchElementException\n",
    "from selenium.common.exceptions import StaleElementReferenceException\n",
    "from selenium.common.exceptions import TimeoutException\n",
    "from selenium.webdriver.support import expected_conditions as EC\n",
    "from selenium.webdriver.support.ui import WebDriverWait\n",
    "from selenium.webdriver.common.by import By\n",
    "from selenium.webdriver.chrome.options import Options\n",
    "from selenium.webdriver.chrome.service import Service\n",
    "from time import sleep"
   ]
  },
  {
   "cell_type": "code",
   "execution_count": 3,
   "id": "2e76681f",
   "metadata": {},
   "outputs": [],
   "source": [
    "path_to_browser = \"./chromedriver.exe\"\n",
    "ser = Service(path_to_browser)\n",
    "op = webdriver.ChromeOptions()\n",
    "op.add_argument('headless')\n",
    "page_link_to_open = \"https://www.redfin.com/zipcode/00601\""
   ]
  },
  {
   "cell_type": "code",
   "execution_count": 5,
   "id": "63df958b",
   "metadata": {},
   "outputs": [],
   "source": [
    "# https://www.redfin.com/CA/San-Francisco/401-Harrison-St-94105/unit-46B/home/144064341\n",
    "page_link_to_open2 = 'https://www.redfin.com/CA/San-Francisco/401-Harrison-St-94105/unit-46B/home/144064341'\n",
    "\n",
    "driver = webdriver.Chrome(service=ser, options=op)\n",
    "driver.maximize_window()\n",
    "driver.get(page_link_to_open2)\n",
    "sleep(0.2)\n",
    "data = driver.find_elements(By.CSS_SELECTOR , \".statsValue\")\n",
    "[price, beds, bath, area] = [c.text for c in data]\n",
    "stress_address = driver.find_elements(By.CSS_SELECTOR , \".street-address\")[0].text\n",
    "city_and_state = driver.find_elements(By.CSS_SELECTOR , \".dp-subtext\")[0].text\n",
    "\n",
    "# home_facts = driver.find_elements(By.CSS_SELECTOR, \".keyDetailsList\")[0] \\\n",
    "#                    .find_elements(By.CSS_SELECTOR, \"div.keyDetail\")\n",
    "# home_fact_index = [fact.find_elements(By.CSS_SELECTOR , \"span\")[0].text for fact in home_facts]\n",
    "# home_fact_text = [fact.find_elements(By.CSS_SELECTOR, \"span.text-right\")[0].text for fact in home_facts]\n",
    "# year_built = home_fact_text[home_fact_index.index('Year Built')] if 'Year Built' in home_fact_index else None\n",
    "# lot_size = home_fact_text[home_fact_index.index('Lot Size')] if 'Lot Size' in home_fact_index else None\n",
    "\n",
    "basic_infor = driver.find_elements(By.ID, \"basicInfo\")[0]\n",
    "basic_infor_label = [e.text for e in basic_infor.find_elements(By.CSS_SELECTOR, \"span.table-label\")]\n",
    "basic_infor_value = [e.text for e in basic_infor.find_elements(By.CSS_SELECTOR, \"div.table-value\")]\n",
    "year_built = basic_infor_value[basic_infor_label.index('Year Built')] if 'Year Built' in basic_infor_label else None\n",
    "county = basic_infor_value[basic_infor_label.index('County')] if 'County' in basic_infor_label else None\n",
    "lot_size = basic_infor_value[basic_infor_label.index('Lot Size')] if 'Lot Size' in basic_infor_label else None\n",
    "\n",
    "scores = driver.find_elements(By.CSS_SELECTOR , \".walk-score\")\n",
    "if scores:\n",
    "    scores = scores[0].find_elements(By.CSS_SELECTOR , \".score\")\n",
    "    trademark = [score.find_elements(By.CSS_SELECTOR , \".walkscore-trademark\")[0].text[:-1] for score in scores]\n",
    "    score_value = [score.find_elements(By.CSS_SELECTOR , \"div.percentage > span.value\")[0].text for score in scores]\n",
    "    walk_score = score_value[trademark.index('Walk Score')] if 'Walk Score' in trademark else None\n",
    "    transit_score = score_value[trademark.index('Transit Score')] if 'Transit Score' in trademark else None\n",
    "    bike_score = score_value[trademark.index('Bike Score')] if 'Bike Score' in trademark else None\n"
   ]
  },
  {
   "cell_type": "code",
   "execution_count": 6,
   "id": "d7cd908d",
   "metadata": {},
   "outputs": [
    {
     "data": {
      "text/plain": [
       "('$7,900,000',\n",
       " '3',\n",
       " '3',\n",
       " '3,214',\n",
       " '401 Harrison St Unit 46B',\n",
       " 'San Francisco, CA 94105',\n",
       " '2014',\n",
       " '—',\n",
       " 'San Francisco County',\n",
       " '93',\n",
       " '100',\n",
       " '57')"
      ]
     },
     "execution_count": 6,
     "metadata": {},
     "output_type": "execute_result"
    }
   ],
   "source": [
    "price, beds, bath, area, stress_address[:-1], city_and_state, year_built, lot_size, county, walk_score, transit_score, bike_score"
   ]
  },
  {
   "cell_type": "code",
   "execution_count": 66,
   "id": "315d72c8",
   "metadata": {},
   "outputs": [],
   "source": []
  },
  {
   "cell_type": "code",
   "execution_count": 84,
   "id": "65970921",
   "metadata": {},
   "outputs": [],
   "source": []
  },
  {
   "cell_type": "code",
   "execution_count": 86,
   "id": "dbd2af82",
   "metadata": {},
   "outputs": [
    {
     "data": {
      "text/plain": [
       "['Walk Score', 'Transit Score', 'Bike Score']"
      ]
     },
     "execution_count": 86,
     "metadata": {},
     "output_type": "execute_result"
    }
   ],
   "source": [
    "trademark"
   ]
  },
  {
   "cell_type": "code",
   "execution_count": 87,
   "id": "141656d9",
   "metadata": {},
   "outputs": [],
   "source": [
    "walk_score = score_value[trademark.index('Walk Score')] if 'Walk Score' in trademark else None\n",
    "transit_score = score_value[trademark.index('Transit Score')] if 'Transit Score' in trademark else None\n",
    "bike_score = score_value[trademark.index('Bike Score')] if 'Bike Score' in trademark else None"
   ]
  },
  {
   "cell_type": "code",
   "execution_count": 8,
   "id": "72b8c79a",
   "metadata": {},
   "outputs": [
    {
     "data": {
      "text/plain": [
       "'$7.900.000'"
      ]
     },
     "execution_count": 8,
     "metadata": {},
     "output_type": "execute_result"
    }
   ],
   "source": [
    "price.replace(',', '.')"
   ]
  }
 ],
 "metadata": {
  "kernelspec": {
   "display_name": "Python 3",
   "language": "python",
   "name": "python3"
  },
  "language_info": {
   "codemirror_mode": {
    "name": "ipython",
    "version": 3
   },
   "file_extension": ".py",
   "mimetype": "text/x-python",
   "name": "python",
   "nbconvert_exporter": "python",
   "pygments_lexer": "ipython3",
   "version": "3.7.9"
  }
 },
 "nbformat": 4,
 "nbformat_minor": 5
}
