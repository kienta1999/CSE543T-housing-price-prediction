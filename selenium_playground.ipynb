{
 "cells": [
  {
   "cell_type": "code",
   "execution_count": 39,
   "id": "aae6fb10",
   "metadata": {},
   "outputs": [
    {
     "data": {
      "text/plain": [
       "[]"
      ]
     },
     "execution_count": 39,
     "metadata": {},
     "output_type": "execute_result"
    }
   ],
   "source": [
    "driver = webdriver.Chrome(service=ser, options=op)\n",
    "driver.maximize_window()\n",
    "driver.get(page_link_to_open)\n",
    "sleep(1)\n",
    "homeCard = driver.find_elements(By.CSS_SELECTOR , \"a.slider-item\")\n",
    "[c.get_attribute('href') for c in homeCard]"
   ]
  },
  {
   "cell_type": "code",
   "execution_count": 26,
   "id": "b506bea5",
   "metadata": {},
   "outputs": [],
   "source": [
    "import pandas as pd"
   ]
  },
  {
   "cell_type": "code",
   "execution_count": 27,
   "id": "ee3aa071",
   "metadata": {},
   "outputs": [],
   "source": [
    "from selenium import webdriver  # install selenium\n",
    "from selenium.webdriver.common.keys import Keys\n",
    "from selenium.common.exceptions import NoSuchElementException\n",
    "from selenium.common.exceptions import StaleElementReferenceException\n",
    "from selenium.common.exceptions import TimeoutException\n",
    "from selenium.webdriver.support import expected_conditions as EC\n",
    "from selenium.webdriver.support.ui import WebDriverWait\n",
    "from selenium.webdriver.common.by import By\n",
    "from selenium.webdriver.chrome.options import Options\n",
    "from selenium.webdriver.chrome.service import Service\n",
    "from time import sleep"
   ]
  },
  {
   "cell_type": "code",
   "execution_count": 28,
   "id": "2e76681f",
   "metadata": {},
   "outputs": [],
   "source": [
    "path_to_browser = \"./chromedriver.exe\"\n",
    "ser = Service(path_to_browser)\n",
    "op = webdriver.ChromeOptions()\n",
    "op.add_argument('headless')\n",
    "page_link_to_open = \"https://www.redfin.com/zipcode/00601\""
   ]
  },
  {
   "cell_type": "code",
   "execution_count": 73,
   "id": "63df958b",
   "metadata": {},
   "outputs": [],
   "source": [
    "# https://www.redfin.com/CA/San-Francisco/401-Harrison-St-94105/unit-46B/home/144064341\n",
    "page_link_to_open2 = 'https://www.redfin.com/CA/San-Francisco/401-Harrison-St-94105/unit-46B/home/144064341'\n",
    "\n",
    "driver = webdriver.Chrome(service=ser, options=op)\n",
    "driver.maximize_window()\n",
    "driver.get(page_link_to_open2)\n",
    "sleep(0.2)\n",
    "data = driver.find_elements(By.CSS_SELECTOR , \".statsValue\")\n",
    "[price, beds, bath, area] = [c.text for c in data]\n",
    "stress_address = driver.find_elements(By.CSS_SELECTOR , \".street-address\")[0].text\n",
    "city_and_state = driver.find_elements(By.CSS_SELECTOR , \".dp-subtext\")[0].text\n",
    "\n",
    "# home_facts = driver.find_elements(By.CSS_SELECTOR, \".keyDetailsList\")[0] \\\n",
    "#                    .find_elements(By.CSS_SELECTOR, \"div.keyDetail\")\n",
    "# home_fact_index = [fact.find_elements(By.CSS_SELECTOR , \"span\")[0].text for fact in home_facts]\n",
    "# home_fact_text = [fact.find_elements(By.CSS_SELECTOR, \"span.text-right\")[0].text for fact in home_facts]\n",
    "# year_built = home_fact_text[home_fact_index.index('Year Built')] if 'Year Built' in home_fact_index else None\n",
    "# lot_size = home_fact_text[home_fact_index.index('Lot Size')] if 'Lot Size' in home_fact_index else None\n",
    "\n",
    "basic_infor = driver.find_elements(By.ID, \"basicInfo\")[0]\n",
    "basic_infor_label = [e.text for e in basic_infor.find_elements(By.CSS_SELECTOR, \"span.table-label\")]\n",
    "basic_infor_value = [e.text for e in basic_infor.find_elements(By.CSS_SELECTOR, \"div.table-value\")]\n",
    "year_built = basic_infor_value[basic_infor_label.index('Year Built')] if 'Year Built' in basic_infor_label else None\n",
    "county = basic_infor_value[basic_infor_label.index('County')] if 'County' in basic_infor_label else None\n",
    "# lot_size = basic_infor_value[basic_infor_label.index('Lot Size')] if 'Lot Size' in basic_infor_label else None\n",
    "\n",
    "scores = driver.find_elements(By.CSS_SELECTOR , \".walk-score\")\n",
    "if scores:\n",
    "    scores = scores[0].find_elements(By.CSS_SELECTOR , \".score\")\n",
    "    trademark = [score.find_elements(By.CSS_SELECTOR , \".walkscore-trademark\")[0].text[:-1] for score in scores]\n",
    "    score_value = [score.find_elements(By.CSS_SELECTOR , \"div.percentage > span.value\")[0].text for score in scores]\n",
    "    walk_score = score_value[trademark.index('Walk Score')] if 'Walk Score' in trademark else None\n",
    "    transit_score = score_value[trademark.index('Transit Score')] if 'Transit Score' in trademark else None\n",
    "    bike_score = score_value[trademark.index('Bike Score')] if 'Bike Score' in trademark else None\n",
    "\n",
    "property_details_container = driver.find_elements(By.CSS_SELECTOR, \"div.super-group-content > div.amenity-group\")\n",
    "heating_cooling_text = None\n",
    "pool_text = None\n",
    "parking_garage_text = None\n",
    "lot_text = None\n",
    "\n",
    "for pc in property_details_container:\n",
    "    header = pc.find_elements(By.TAG_NAME, \"h3\")[0].text\n",
    "    if header == 'Pool Information':\n",
    "        pool_text = [e.text for e in pc.find_elements(By.TAG_NAME, \"li\")]\n",
    "    if header == 'Heating & Cooling':\n",
    "        heating_cooling_text = [e.text for e in pc.find_elements(By.TAG_NAME, \"li\")]\n",
    "    if header == 'Parking & Garage Information':\n",
    "        parking_garage_text = [e.text for e in pc.find_elements(By.TAG_NAME, \"li\")]\n",
    "    if header == 'Lot Information':\n",
    "        lot_text = [e.text for e in pc.find_elements(By.TAG_NAME, \"li\")]"
   ]
  },
  {
   "cell_type": "code",
   "execution_count": 71,
   "id": "d7cd908d",
   "metadata": {},
   "outputs": [
    {
     "data": {
      "text/plain": [
       "('$7,900,000',\n",
       " '3',\n",
       " '3',\n",
       " '3,214',\n",
       " '401 Harrison St Unit 46B',\n",
       " 'San Francisco, CA 94105',\n",
       " '2014',\n",
       " '—',\n",
       " 'San Francisco County',\n",
       " '93',\n",
       " '100',\n",
       " '57')"
      ]
     },
     "execution_count": 71,
     "metadata": {},
     "output_type": "execute_result"
    }
   ],
   "source": [
    "price, beds, bath, area, stress_address[:-1], city_and_state, year_built, lot_size, county, walk_score, transit_score, bike_score"
   ]
  },
  {
   "cell_type": "code",
   "execution_count": 81,
   "id": "1561d693",
   "metadata": {},
   "outputs": [
    {
     "data": {
      "text/plain": [
       "True"
      ]
     },
     "execution_count": 81,
     "metadata": {},
     "output_type": "execute_result"
    }
   ],
   "source": [
    "lot_text[0].startswith('Lot Size Acres: ')"
   ]
  },
  {
   "cell_type": "code",
   "execution_count": 84,
   "id": "65970921",
   "metadata": {},
   "outputs": [],
   "source": [
    "for lt in lot_text:\n",
    "    if lt.startswith('Lot Size Acres: '):\n",
    "        lot_size = lt.split('Lot Size Acres: ')[1]"
   ]
  },
  {
   "cell_type": "code",
   "execution_count": 92,
   "id": "948795ce",
   "metadata": {},
   "outputs": [],
   "source": [
    "for hc in heating_cooling_text:\n",
    "    if hc.startswith('Cooling: '):\n",
    "        cooling = hc.split('Cooling: ')[1]\n",
    "    if hc.startswith('Heating: '):\n",
    "        heating = hc.split('Heating: ')[1]"
   ]
  },
  {
   "cell_type": "code",
   "execution_count": 98,
   "id": "988870dc",
   "metadata": {},
   "outputs": [],
   "source": [
    "for p in pool_text:\n",
    "    if p.startswith('Has Private Pool: '):\n",
    "        pooling = p.split('Has Private Pool: ')[1]"
   ]
  },
  {
   "cell_type": "code",
   "execution_count": 101,
   "id": "bb5a5d03",
   "metadata": {},
   "outputs": [],
   "source": [
    "for pg in parking_garage_text:\n",
    "    if pg.startswith('Parking Total: '):\n",
    "        parking_size = pg.split('Parking Total: ')[1]"
   ]
  },
  {
   "cell_type": "code",
   "execution_count": 102,
   "id": "ff8b69a1",
   "metadata": {},
   "outputs": [
    {
     "data": {
      "text/plain": [
       "'2'"
      ]
     },
     "execution_count": 102,
     "metadata": {},
     "output_type": "execute_result"
    }
   ],
   "source": [
    "parking_size"
   ]
  }
 ],
 "metadata": {
  "kernelspec": {
   "display_name": "Python 3",
   "language": "python",
   "name": "python3"
  },
  "language_info": {
   "codemirror_mode": {
    "name": "ipython",
    "version": 3
   },
   "file_extension": ".py",
   "mimetype": "text/x-python",
   "name": "python",
   "nbconvert_exporter": "python",
   "pygments_lexer": "ipython3",
   "version": "3.7.9"
  }
 },
 "nbformat": 4,
 "nbformat_minor": 5
}
