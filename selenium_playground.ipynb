{
 "cells": [
  {
   "cell_type": "code",
   "execution_count": 39,
   "metadata": {},
   "outputs": [
    {
     "data": {
      "text/plain": [
       "[]"
      ]
     },
     "execution_count": 39,
     "metadata": {},
     "output_type": "execute_result"
    }
   ],
   "source": [
    "driver = webdriver.Chrome(service=ser, options=op)\n",
    "driver.maximize_window()\n",
    "driver.get(page_link_to_open)\n",
    "sleep(1)\n",
    "homeCard = driver.find_elements(By.CSS_SELECTOR , \"a.slider-item\")\n",
    "[c.get_attribute('href') for c in homeCard]"
   ]
  },
  {
   "cell_type": "code",
   "execution_count": 26,
   "metadata": {},
   "outputs": [],
   "source": [
    "import pandas as pd"
   ]
  },
  {
   "cell_type": "code",
   "execution_count": 27,
   "metadata": {},
   "outputs": [],
   "source": [
    "from selenium import webdriver  # install selenium\n",
    "from selenium.webdriver.common.keys import Keys\n",
    "from selenium.common.exceptions import NoSuchElementException\n",
    "from selenium.common.exceptions import StaleElementReferenceException\n",
    "from selenium.common.exceptions import TimeoutException\n",
    "from selenium.webdriver.support import expected_conditions as EC\n",
    "from selenium.webdriver.support.ui import WebDriverWait\n",
    "from selenium.webdriver.common.by import By\n",
    "from selenium.webdriver.chrome.options import Options\n",
    "from selenium.webdriver.chrome.service import Service\n",
    "from time import sleep"
   ]
  },
  {
   "cell_type": "code",
   "execution_count": 28,
   "metadata": {},
   "outputs": [],
   "source": [
    "path_to_browser = \"./chromedriver.exe\"\n",
    "ser = Service(path_to_browser)\n",
    "op = webdriver.ChromeOptions()\n",
    "op.add_argument('headless')\n",
    "page_link_to_open = \"https://www.redfin.com/zipcode/00601\""
   ]
  },
  {
   "cell_type": "code",
   "execution_count": 111,
   "metadata": {},
   "outputs": [],
   "source": [
    "# https://www.redfin.com/CA/San-Francisco/401-Harrison-St-94105/unit-46B/home/144064341\n",
    "page_link_to_open2 = 'https://www.redfin.com/CA/San-Francisco/401-Harrison-St-94105/unit-46B/home/144064341'\n",
    "\n",
    "driver = webdriver.Chrome(service=ser, options=op)\n",
    "driver.maximize_window()\n",
    "driver.get(page_link_to_open2)\n",
    "sleep(0.2)\n",
    "data = driver.find_elements(By.CSS_SELECTOR , \".statsValue\")\n",
    "[price, beds, bath, area] = [c.text for c in data]\n",
    "stress_address = driver.find_elements(By.CSS_SELECTOR , \".street-address\")[0].text\n",
    "city_and_state = driver.find_elements(By.CSS_SELECTOR , \".dp-subtext\")[0].text\n",
    "\n",
    "# home_facts = driver.find_elements(By.CSS_SELECTOR, \".keyDetailsList\")[0] \\\n",
    "#                    .find_elements(By.CSS_SELECTOR, \"div.keyDetail\")\n",
    "# home_fact_index = [fact.find_elements(By.CSS_SELECTOR , \"span\")[0].text for fact in home_facts]\n",
    "# home_fact_text = [fact.find_elements(By.CSS_SELECTOR, \"span.text-right\")[0].text for fact in home_facts]\n",
    "# year_built = home_fact_text[home_fact_index.index('Year Built')] if 'Year Built' in home_fact_index else None\n",
    "# lot_size = home_fact_text[home_fact_index.index('Lot Size')] if 'Lot Size' in home_fact_index else None\n",
    "\n",
    "basic_infor = driver.find_elements(By.ID, \"basicInfo\")[0]\n",
    "basic_infor_label = [e.text for e in basic_infor.find_elements(By.CSS_SELECTOR, \"span.table-label\")]\n",
    "basic_infor_value = [e.text for e in basic_infor.find_elements(By.CSS_SELECTOR, \"div.table-value\")]\n",
    "year_built = basic_infor_value[basic_infor_label.index('Year Built')] if 'Year Built' in basic_infor_label else None\n",
    "county = basic_infor_value[basic_infor_label.index('County')] if 'County' in basic_infor_label else None\n",
    "# lot_size = basic_infor_value[basic_infor_label.index('Lot Size')] if 'Lot Size' in basic_infor_label else None\n",
    "\n",
    "scores = driver.find_elements(By.CSS_SELECTOR , \".walk-score\")\n",
    "if scores:\n",
    "    scores = scores[0].find_elements(By.CSS_SELECTOR , \".score\")\n",
    "    trademark = [score.find_elements(By.CSS_SELECTOR , \".walkscore-trademark\")[0].text[:-1] for score in scores]\n",
    "    score_value = [score.find_elements(By.CSS_SELECTOR , \"div.percentage > span.value\")[0].text for score in scores]\n",
    "    walk_score = score_value[trademark.index('Walk Score')] if 'Walk Score' in trademark else None\n",
    "    transit_score = score_value[trademark.index('Transit Score')] if 'Transit Score' in trademark else None\n",
    "    bike_score = score_value[trademark.index('Bike Score')] if 'Bike Score' in trademark else None\n",
    "\n",
    "property_details_container = driver.find_elements(By.CSS_SELECTOR, \"div.super-group-content > div.amenity-group\")\n",
    "heating_cooling_text = None\n",
    "pool_text = None\n",
    "parking_garage_text = None\n",
    "lot_text = None\n",
    "\n",
    "for pc in property_details_container:\n",
    "    header = pc.find_elements(By.TAG_NAME, \"h3\")[0].text\n",
    "    if header == 'Pool Information':\n",
    "        pool_text = [e.text for e in pc.find_elements(By.TAG_NAME, \"li\")]\n",
    "    if header == 'Heating & Cooling':\n",
    "        heating_cooling_text = [e.text for e in pc.find_elements(By.TAG_NAME, \"li\")]\n",
    "    if header == 'Parking & Garage Information':\n",
    "        parking_garage_text = [e.text for e in pc.find_elements(By.TAG_NAME, \"li\")]\n",
    "    if header == 'Lot Information':\n",
    "        lot_text = [e.text for e in pc.find_elements(By.TAG_NAME, \"li\")]\n",
    "\n",
    "photo_elements = driver.find_elements(By.CSS_SELECTOR, 'div.InlinePhotoPreview')\n",
    "photo_elements = photo_elements[0] if photo_elements else []\n",
    "img_href = \" \".join([img.get_attribute('src') for img in photo_elements.find_elements(By.TAG_NAME, \"img\")])"
   ]
  },
  {
   "cell_type": "code",
   "execution_count": 112,
   "metadata": {},
   "outputs": [
    {
     "data": {
      "text/plain": [
       "'https://ssl.cdn-redfin.com/system_files/media/622779_JPG/item_10.jpg https://ssl.cdn-redfin.com/system_files/media/622779_JPG/genLdpUgcMediaBrowserUrl/item_29.jpg https://ssl.cdn-redfin.com/system_files/media/622779_JPG/genLdpUgcMediaBrowserUrl/item_85.jpg'"
      ]
     },
     "execution_count": 112,
     "metadata": {},
     "output_type": "execute_result"
    }
   ],
   "source": [
    "img_href"
   ]
  },
  {
   "cell_type": "code",
   "execution_count": 71,
   "metadata": {},
   "outputs": [
    {
     "data": {
      "text/plain": [
       "('$7,900,000',\n",
       " '3',\n",
       " '3',\n",
       " '3,214',\n",
       " '401 Harrison St Unit 46B',\n",
       " 'San Francisco, CA 94105',\n",
       " '2014',\n",
       " '—',\n",
       " 'San Francisco County',\n",
       " '93',\n",
       " '100',\n",
       " '57')"
      ]
     },
     "execution_count": 71,
     "metadata": {},
     "output_type": "execute_result"
    }
   ],
   "source": [
    "price, beds, bath, area, stress_address[:-1], city_and_state, year_built, lot_size, county, walk_score, transit_score, bike_score"
   ]
  },
  {
   "cell_type": "code",
   "execution_count": 84,
   "metadata": {},
   "outputs": [],
   "source": [
    "for lt in lot_text:\n",
    "    if lt.startswith('Lot Size Acres: '):\n",
    "        lot_size = lt.split('Lot Size Acres: ')[1]"
   ]
  },
  {
   "cell_type": "code",
   "execution_count": 92,
   "metadata": {},
   "outputs": [],
   "source": [
    "for hc in heating_cooling_text:\n",
    "    if hc.startswith('Cooling: '):\n",
    "        cooling = hc.split('Cooling: ')[1]\n",
    "    if hc.startswith('Heating: '):\n",
    "        heating = hc.split('Heating: ')[1]"
   ]
  },
  {
   "cell_type": "code",
   "execution_count": 98,
   "metadata": {},
   "outputs": [],
   "source": [
    "for p in pool_text:\n",
    "    if p.startswith('Has Private Pool: '):\n",
    "        pooling = p.split('Has Private Pool: ')[1]"
   ]
  },
  {
   "cell_type": "code",
   "execution_count": 101,
   "metadata": {},
   "outputs": [],
   "source": [
    "for pg in parking_garage_text:\n",
    "    if pg.startswith('Parking Total: '):\n",
    "        parking_size = pg.split('Parking Total: ')[1]"
   ]
  },
  {
   "cell_type": "code",
   "execution_count": 102,
   "metadata": {},
   "outputs": [
    {
     "data": {
      "text/plain": [
       "'2'"
      ]
     },
     "execution_count": 102,
     "metadata": {},
     "output_type": "execute_result"
    }
   ],
   "source": [
    "parking_size"
   ]
  },
  {
   "cell_type": "code",
   "execution_count": null,
   "metadata": {},
   "outputs": [],
   "source": []
  },
  {
   "cell_type": "code",
   "execution_count": null,
   "metadata": {},
   "outputs": [],
   "source": [
    "us_state_to_abbrev = {\n",
    "    \"Alabama\": \"AL\",\n",
    "    \"Alaska\": \"AK\",\n",
    "    \"Arizona\": \"AZ\",\n",
    "    \"Arkansas\": \"AR\",\n",
    "    \"California\": \"CA\",\n",
    "    \"Colorado\": \"CO\",\n",
    "    \"Connecticut\": \"CT\",\n",
    "    \"Delaware\": \"DE\",\n",
    "    \"Florida\": \"FL\",\n",
    "    \"Georgia\": \"GA\",\n",
    "    \"Hawaii\": \"HI\",\n",
    "    \"Idaho\": \"ID\",\n",
    "    \"Illinois\": \"IL\",\n",
    "    \"Indiana\": \"IN\",\n",
    "    \"Iowa\": \"IA\",\n",
    "    \"Kansas\": \"KS\",\n",
    "    \"Kentucky\": \"KY\",\n",
    "    \"Louisiana\": \"LA\",\n",
    "    \"Maine\": \"ME\",\n",
    "    \"Maryland\": \"MD\",\n",
    "    \"Massachusetts\": \"MA\",\n",
    "    \"Michigan\": \"MI\",\n",
    "    \"Minnesota\": \"MN\",\n",
    "    \"Mississippi\": \"MS\",\n",
    "    \"Missouri\": \"MO\",\n",
    "    \"Montana\": \"MT\",\n",
    "    \"Nebraska\": \"NE\",\n",
    "    \"Nevada\": \"NV\",\n",
    "    \"New Hampshire\": \"NH\",\n",
    "    \"New Jersey\": \"NJ\",\n",
    "    \"New Mexico\": \"NM\",\n",
    "    \"New York\": \"NY\",\n",
    "    \"North Carolina\": \"NC\",\n",
    "    \"North Dakota\": \"ND\",\n",
    "    \"Ohio\": \"OH\",\n",
    "    \"Oklahoma\": \"OK\",\n",
    "    \"Oregon\": \"OR\",\n",
    "    \"Pennsylvania\": \"PA\",\n",
    "    \"Rhode Island\": \"RI\",\n",
    "    \"South Carolina\": \"SC\",\n",
    "    \"South Dakota\": \"SD\",\n",
    "    \"Tennessee\": \"TN\",\n",
    "    \"Texas\": \"TX\",\n",
    "    \"Utah\": \"UT\",\n",
    "    \"Vermont\": \"VT\",\n",
    "    \"Virginia\": \"VA\",\n",
    "    \"Washington\": \"WA\",\n",
    "    \"West Virginia\": \"WV\",\n",
    "    \"Wisconsin\": \"WI\",\n",
    "    \"Wyoming\": \"WY\",\n",
    "    \"District of Columbia\": \"DC\",\n",
    "    \"American Samoa\": \"AS\",\n",
    "    \"Guam\": \"GU\",\n",
    "    \"Northern Mariana Islands\": \"MP\",\n",
    "    \"Puerto Rico\": \"PR\",\n",
    "    \"United States Minor Outlying Islands\": \"UM\",\n",
    "    \"U.S. Virgin Islands\": \"VI\",\n",
    "}"
   ]
  },
  {
   "cell_type": "code",
   "execution_count": 160,
   "metadata": {},
   "outputs": [
    {
     "name": "stderr",
     "output_type": "stream",
     "text": [
      "/home/talekien1710/.local/lib/python3.8/site-packages/IPython/core/interactiveshell.py:3444: FutureWarning: The error_bad_lines argument has been deprecated and will be removed in a future version.\n",
      "\n",
      "\n",
      "  exec(code_obj, self.user_global_ns, self.user_ns)\n",
      "b'Skipping line 235: expected 20 fields, saw 21\\nSkipping line 252: expected 20 fields, saw 21\\nSkipping line 721: expected 20 fields, saw 21\\nSkipping line 1103: expected 20 fields, saw 21\\nSkipping line 1451: expected 20 fields, saw 23\\nSkipping line 1572: expected 20 fields, saw 21\\nSkipping line 2357: expected 20 fields, saw 21\\nSkipping line 2732: expected 20 fields, saw 22\\nSkipping line 3193: expected 20 fields, saw 22\\nSkipping line 3265: expected 20 fields, saw 23\\nSkipping line 3586: expected 20 fields, saw 21\\nSkipping line 3828: expected 20 fields, saw 21\\nSkipping line 4727: expected 20 fields, saw 22\\nSkipping line 5162: expected 20 fields, saw 22\\nSkipping line 5367: expected 20 fields, saw 22\\nSkipping line 5469: expected 20 fields, saw 21\\nSkipping line 5535: expected 20 fields, saw 22\\nSkipping line 5962: expected 20 fields, saw 21\\nSkipping line 6149: expected 20 fields, saw 21\\nSkipping line 6190: expected 20 fields, saw 21\\nSkipping line 6635: expected 20 fields, saw 23\\nSkipping line 6738: expected 20 fields, saw 21\\nSkipping line 6827: expected 20 fields, saw 21\\nSkipping line 7423: expected 20 fields, saw 21\\nSkipping line 7453: expected 20 fields, saw 22\\nSkipping line 7674: expected 20 fields, saw 21\\nSkipping line 8071: expected 20 fields, saw 21\\nSkipping line 8196: expected 20 fields, saw 21\\nSkipping line 9008: expected 20 fields, saw 21\\nSkipping line 9850: expected 20 fields, saw 21\\nSkipping line 10380: expected 20 fields, saw 21\\nSkipping line 10585: expected 20 fields, saw 22\\nSkipping line 10700: expected 20 fields, saw 21\\nSkipping line 10756: expected 20 fields, saw 21\\nSkipping line 10780: expected 20 fields, saw 22\\nSkipping line 11339: expected 20 fields, saw 21\\nSkipping line 11627: expected 20 fields, saw 21\\nSkipping line 12219: expected 20 fields, saw 21\\nSkipping line 12538: expected 20 fields, saw 24\\nSkipping line 12796: expected 20 fields, saw 26\\nSkipping line 13083: expected 20 fields, saw 21\\nSkipping line 13118: expected 20 fields, saw 22\\nSkipping line 13638: expected 20 fields, saw 21\\nSkipping line 14222: expected 20 fields, saw 21\\nSkipping line 14703: expected 20 fields, saw 21\\nSkipping line 14736: expected 20 fields, saw 22\\nSkipping line 15260: expected 20 fields, saw 21\\nSkipping line 15457: expected 20 fields, saw 22\\nSkipping line 15710: expected 20 fields, saw 23\\nSkipping line 15957: expected 20 fields, saw 21\\nSkipping line 15986: expected 20 fields, saw 21\\nSkipping line 16474: expected 20 fields, saw 21\\nSkipping line 17697: expected 20 fields, saw 21\\nSkipping line 17880: expected 20 fields, saw 22\\nSkipping line 18057: expected 20 fields, saw 21\\nSkipping line 18944: expected 20 fields, saw 21\\nSkipping line 19011: expected 20 fields, saw 21\\nSkipping line 19232: expected 20 fields, saw 22\\nSkipping line 19409: expected 20 fields, saw 21\\nSkipping line 19492: expected 20 fields, saw 21\\nSkipping line 19791: expected 20 fields, saw 21\\nSkipping line 19845: expected 20 fields, saw 21\\nSkipping line 19901: expected 20 fields, saw 21\\nSkipping line 19974: expected 20 fields, saw 21\\n'\n"
     ]
    }
   ],
   "source": [
    "import pandas as pd\n",
    "import numpy as np\n",
    "housing_price = pd.read_csv('data/housing_data_raw/0.csv', encoding='cp1252', error_bad_lines=False)\n",
    "# price filter\n",
    "housing_price = housing_price[(housing_price['price'].notna()) & (housing_price['price'].str.startswith('$'))]\n",
    "housing_price['price'] = housing_price['price'].map(lambda x: x[1:]).map(lambda x: x if x[-1] != '+' else x[:-1])\n",
    "housing_price.drop(columns=['lot_size.1', 'parking_size'], inplace=True)\n",
    "# bath, bed, and areas required\n",
    "housing_price = housing_price[(housing_price['bath'] != '—') & (housing_price['beds'] != '—') & (housing_price['area'].str.isnumeric())]\n",
    "# Year column\n",
    "mean_year = int(np.mean(housing_price[(housing_price['year_built'] != '—') & (housing_price['year_built'] != 'None')]['year_built'].astype(np.float)))\n",
    "housing_price['year_built'] = housing_price['year_built'].map(lambda year: year if year != '—' and year != 'None' else mean_year).astype(np.int)\n",
    "# Lot size\n",
    "housing_price['lot_size'] = housing_price['lot_size'].map(lambda lot: lot if lot.isnumeric() else 0)\n",
    "# score\n",
    "housing_price['transit_score'] = housing_price['transit_score'].map(lambda score: score if score != 'None' else 0)\n",
    "housing_price['walk_score'] = housing_price['walk_score'].map(lambda score: score if score != 'None' else 0)\n",
    "housing_price['bike_score'] = housing_price['bike_score'].map(lambda score: score if score != 'None' else 0)\n",
    "# cooling & heating\n",
    "housing_price['cooling'] = housing_price['cooling'].map(lambda x: len(x.split('|')) if x != 'None' else 0)\n",
    "housing_price['heating'] = housing_price['heating'].map(lambda x: len(x.split('|')) if x != 'None' else 0)\n",
    "# has_pool\n",
    "housing_price['has_pool'] = housing_price['has_pool'].map(lambda score: 1 if score == 'Yes' else 0)\n",
    "# state_and_zip\n",
    "housing_price[\"state\"] = housing_price[\"state_and_zip\"].map(\n",
    "    lambda x: x.split(\" \")[1] if len(x.split(\" \")) == 3 else None\n",
    ")\n",
    "housing_price[\"zip\"] = housing_price[\"state_and_zip\"].map(\n",
    "    lambda x: x.split(\" \")[2] if len(x.split(\" \")) == 3 else None\n",
    ")\n",
    "housing_price = housing_price[['href', 'stress_address', 'city', 'state', 'zip', 'county', 'img_href',\n",
    "       'beds', 'bath', 'area', 'year_built', 'lot_size', 'walk_score',\n",
    "       'transit_score', 'bike_score', 'cooling', 'heating', 'has_pool',\n",
    "       'price']]\n",
    "housing_price = housing_price[housing_price[\"county\"] != \"None\"]\n",
    "housing_price.dropna(inplace=True)\n",
    "housing_price = housing_price.reset_index(drop=True)\n",
    "\n",
    "def get_crime_rate(county, state):\n",
    "    county_name = county + \", \" + state\n",
    "    crime_rate_entry = crime_rate[\n",
    "        crime_rate[\"county_name\"].str.lower() == county_name.lower()\n",
    "    ]\n",
    "    return (\n",
    "        crime_rate_entry.iloc[0][\"crime_rate_per_100000\"]\n",
    "        if crime_rate_entry.shape[0]\n",
    "        else None\n",
    "    )\n",
    "\n",
    "\n",
    "crime_rate = pd.read_csv(\"data/crime_data_w_population_and_crime_rate.csv\")[\n",
    "    [\"county_name\", \"crime_rate_per_100000\"]\n",
    "]\n",
    "house_crime_rate = []\n",
    "for i in range(housing_price.shape[0]):\n",
    "    house = housing_price.iloc[i]\n",
    "    house_crime_rate.append(get_crime_rate(house[\"county\"], house[\"state\"]))\n",
    "housing_price[\"crime_rate_per_100000\"] = house_crime_rate\n",
    "housing_price.dropna(inplace=True)\n",
    "\n",
    "minimum_wage_data = pd.read_csv('./data/minimum_wage_data.csv', encoding='cp1252')\n",
    "minimum_wage_data = minimum_wage_data[minimum_wage_data['Year'] == 2020][['State', 'State.Minimum.Wage']]\n",
    "minimum_wage_data['State'] = minimum_wage_data['State'].map(lambda s: us_state_to_abbrev[s])\n",
    "minimum_wage_data.head()\n",
    "\n",
    "def get_minimum_wage(state):\n",
    "    minimum_wage_entry = minimum_wage_data[minimum_wage_data['State'] == state]\n",
    "    return minimum_wage_entry.iloc[0]['State.Minimum.Wage'] if minimum_wage_entry.shape[0] else 7.25\n",
    "housing_price['minimum_wage'] = housing_price['state'].map(get_minimum_wage)\n",
    "\n",
    "education_completing_college_data = pd.read_excel(\n",
    "    \"data/education_completing_college.xlsx\"\n",
    ")\n",
    "education_completing_college_data = education_completing_college_data[\n",
    "    [\"Name\", \"2015-2019\"]\n",
    "]\n",
    "\n",
    "\n",
    "def get_education(county, state):\n",
    "    if len(county.split(\" \")) < 1:\n",
    "        return None\n",
    "    county = \" \".join(county.split(\" \")[:-1])\n",
    "    county_name = county + \", \" + state\n",
    "    education_completing_college_entry = education_completing_college_data[\n",
    "        education_completing_college_data[\"Name\"].str.lower() == county_name.lower()\n",
    "    ]\n",
    "    return (\n",
    "        education_completing_college_entry.iloc[0][\"2015-2019\"]\n",
    "        if education_completing_college_entry.shape[0]\n",
    "        else None\n",
    "    )\n",
    "\n",
    "\n",
    "college_completion = []\n",
    "for i in range(housing_price.shape[0]):\n",
    "    house = housing_price.iloc[i]\n",
    "    college_completion.append(get_education(house[\"county\"], house[\"state\"]))\n",
    "housing_price[\"college_completion\"] = college_completion"
   ]
  },
  {
   "cell_type": "code",
   "execution_count": 161,
   "metadata": {
    "scrolled": true
   },
   "outputs": [
    {
     "data": {
      "text/plain": [
       "(11830, 21)"
      ]
     },
     "execution_count": 161,
     "metadata": {},
     "output_type": "execute_result"
    }
   ],
   "source": [
    "housing_price.shape"
   ]
  },
  {
   "cell_type": "code",
   "execution_count": 208,
   "metadata": {},
   "outputs": [],
   "source": [
    "unemployment_rate_data = pd.read_excel('data/unemployment_rate.xlsx')[['Name', 2020, 'Median Household Income (2019)']]"
   ]
  },
  {
   "cell_type": "code",
   "execution_count": 218,
   "metadata": {},
   "outputs": [],
   "source": [
    "def get_unemployment_rate(county, state):\n",
    "    if county == 'San Francisco County':\n",
    "        county = 'San Francisco County/city'\n",
    "    county_name = county + \", \" + state\n",
    "    unemployment_rate_entry = unemployment_rate_data[\n",
    "        unemployment_rate_data[\"Name\"].str.lower() == county_name.lower()\n",
    "    ]\n",
    "    return (\n",
    "        unemployment_rate_entry.iloc[0][2020]\n",
    "        if unemployment_rate_entry.shape[0]\n",
    "        else None,\n",
    "        unemployment_rate_entry.iloc[0]['Median Household Income (2019)']\n",
    "        if unemployment_rate_entry.shape[0]\n",
    "        else None\n",
    "    )"
   ]
  },
  {
   "cell_type": "code",
   "execution_count": 223,
   "metadata": {},
   "outputs": [],
   "source": [
    "unemployment_rate = []\n",
    "median_household_income = []\n",
    "for i in range(housing_price.shape[0]):\n",
    "    house = housing_price.iloc[i]\n",
    "    u, m = get_unemployment_rate(house[\"county\"], house[\"state\"])\n",
    "    unemployment_rate.append(u)\n",
    "    median_household_income.append(m)"
   ]
  },
  {
   "cell_type": "code",
   "execution_count": 224,
   "metadata": {},
   "outputs": [],
   "source": [
    "housing_price['unemployment_rate'] = unemployment_rate\n",
    "housing_price['median_household_income'] = median_household_income"
   ]
  },
  {
   "cell_type": "code",
   "execution_count": 226,
   "metadata": {},
   "outputs": [
    {
     "data": {
      "text/plain": [
       "(11830, 24)"
      ]
     },
     "execution_count": 226,
     "metadata": {},
     "output_type": "execute_result"
    }
   ],
   "source": [
    "housing_price.shape"
   ]
  },
  {
   "cell_type": "code",
   "execution_count": 229,
   "metadata": {},
   "outputs": [
    {
     "data": {
      "text/plain": [
       "(11521, 24)"
      ]
     },
     "execution_count": 229,
     "metadata": {},
     "output_type": "execute_result"
    }
   ],
   "source": [
    "housing_price.dropna().shape"
   ]
  }
 ],
 "metadata": {
  "kernelspec": {
   "display_name": "Python 3",
   "language": "python",
   "name": "python3"
  },
  "language_info": {
   "codemirror_mode": {
    "name": "ipython",
    "version": 3
   },
   "file_extension": ".py",
   "mimetype": "text/x-python",
   "name": "python",
   "nbconvert_exporter": "python",
   "pygments_lexer": "ipython3",
   "version": "3.8.10"
  }
 },
 "nbformat": 4,
 "nbformat_minor": 5
}
